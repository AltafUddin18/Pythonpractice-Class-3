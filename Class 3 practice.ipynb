{
 "cells": [
  {
   "cell_type": "markdown",
   "id": "5b63eed8",
   "metadata": {},
   "source": [
    "# Class 3"
   ]
  },
  {
   "cell_type": "markdown",
   "id": "14da79f8",
   "metadata": {},
   "source": [
    "## Data Structure in Python"
   ]
  },
  {
   "cell_type": "markdown",
   "id": "2f69ae51",
   "metadata": {},
   "source": [
    "### List"
   ]
  },
  {
   "cell_type": "markdown",
   "id": "9a3cf82a",
   "metadata": {},
   "source": [
    "#### 1. Odered\n",
    "#### 2. Changeable\n",
    "#### 3. Allow Duplicate"
   ]
  },
  {
   "cell_type": "code",
   "execution_count": 3,
   "id": "926cb711",
   "metadata": {},
   "outputs": [],
   "source": [
    "l1 = ['data','science',1,2,3,4,100,True,False,[1,2,3,4]]"
   ]
  },
  {
   "cell_type": "code",
   "execution_count": 8,
   "id": "1cc7927d",
   "metadata": {},
   "outputs": [
    {
     "data": {
      "text/plain": [
       "['data', 'science', 1, 2, 3, 4, 100, True, False, [1, 2, 3, 4]]"
      ]
     },
     "execution_count": 8,
     "metadata": {},
     "output_type": "execute_result"
    }
   ],
   "source": [
    "l1"
   ]
  },
  {
   "cell_type": "code",
   "execution_count": 9,
   "id": "90ab6399",
   "metadata": {},
   "outputs": [
    {
     "data": {
      "text/plain": [
       "136"
      ]
     },
     "execution_count": 9,
     "metadata": {},
     "output_type": "execute_result"
    }
   ],
   "source": [
    "import sys\n",
    "sys.getsizeof(l1)"
   ]
  },
  {
   "cell_type": "code",
   "execution_count": 10,
   "id": "3c2940e9",
   "metadata": {},
   "outputs": [],
   "source": [
    "t1 = ('data','science',1,2,3,4,100,True,False,[1,2,3,4])"
   ]
  },
  {
   "cell_type": "code",
   "execution_count": 11,
   "id": "68c85f38",
   "metadata": {},
   "outputs": [
    {
     "data": {
      "text/plain": [
       "120"
      ]
     },
     "execution_count": 11,
     "metadata": {},
     "output_type": "execute_result"
    }
   ],
   "source": [
    "sys.getsizeof(t1) "
   ]
  },
  {
   "cell_type": "code",
   "execution_count": 12,
   "id": "a0e945df",
   "metadata": {},
   "outputs": [
    {
     "data": {
      "text/plain": [
       "[1, 2, 3, 4]"
      ]
     },
     "execution_count": 12,
     "metadata": {},
     "output_type": "execute_result"
    }
   ],
   "source": [
    "t1[-1]"
   ]
  },
  {
   "cell_type": "code",
   "execution_count": 13,
   "id": "3f945a8d",
   "metadata": {},
   "outputs": [
    {
     "data": {
      "text/plain": [
       "'science'"
      ]
     },
     "execution_count": 13,
     "metadata": {},
     "output_type": "execute_result"
    }
   ],
   "source": [
    "t1[1]"
   ]
  },
  {
   "cell_type": "code",
   "execution_count": 14,
   "id": "b72468f6",
   "metadata": {},
   "outputs": [
    {
     "data": {
      "text/plain": [
       "False"
      ]
     },
     "execution_count": 14,
     "metadata": {},
     "output_type": "execute_result"
    }
   ],
   "source": [
    "t1[-2]"
   ]
  },
  {
   "cell_type": "code",
   "execution_count": 15,
   "id": "28455d76",
   "metadata": {},
   "outputs": [
    {
     "data": {
      "text/plain": [
       "4"
      ]
     },
     "execution_count": 15,
     "metadata": {},
     "output_type": "execute_result"
    }
   ],
   "source": [
    "t1[-1][-1]"
   ]
  },
  {
   "cell_type": "code",
   "execution_count": 16,
   "id": "b9be959f",
   "metadata": {},
   "outputs": [],
   "source": [
    "#tuple doesnt accept Dupes"
   ]
  },
  {
   "cell_type": "code",
   "execution_count": 17,
   "id": "8d764173",
   "metadata": {},
   "outputs": [
    {
     "ename": "TypeError",
     "evalue": "'tuple' object does not support item assignment",
     "output_type": "error",
     "traceback": [
      "\u001b[1;31m---------------------------------------------------------------------------\u001b[0m",
      "\u001b[1;31mTypeError\u001b[0m                                 Traceback (most recent call last)",
      "\u001b[1;32m~\\AppData\\Local\\Temp\\ipykernel_12472\\487587784.py\u001b[0m in \u001b[0;36m<module>\u001b[1;34m\u001b[0m\n\u001b[1;32m----> 1\u001b[1;33m \u001b[0mt1\u001b[0m\u001b[1;33m[\u001b[0m\u001b[1;36m0\u001b[0m\u001b[1;33m]\u001b[0m\u001b[1;33m=\u001b[0m\u001b[1;34m'science'\u001b[0m\u001b[1;33m\u001b[0m\u001b[1;33m\u001b[0m\u001b[0m\n\u001b[0m",
      "\u001b[1;31mTypeError\u001b[0m: 'tuple' object does not support item assignment"
     ]
    }
   ],
   "source": [
    "t1[0]='science'"
   ]
  },
  {
   "cell_type": "code",
   "execution_count": 18,
   "id": "79b2d7ca",
   "metadata": {},
   "outputs": [
    {
     "data": {
      "text/plain": [
       "[1, 2, 3, 4]"
      ]
     },
     "execution_count": 18,
     "metadata": {},
     "output_type": "execute_result"
    }
   ],
   "source": [
    "l1[2:6] #colon indicates range"
   ]
  },
  {
   "cell_type": "code",
   "execution_count": 19,
   "id": "e371d409",
   "metadata": {},
   "outputs": [
    {
     "data": {
      "text/plain": [
       "[100, True, False]"
      ]
     },
     "execution_count": 19,
     "metadata": {},
     "output_type": "execute_result"
    }
   ],
   "source": [
    "l1[-4:-1] #colon indicates range"
   ]
  },
  {
   "cell_type": "code",
   "execution_count": 20,
   "id": "d1a0a101",
   "metadata": {},
   "outputs": [],
   "source": [
    " string='data science'"
   ]
  },
  {
   "cell_type": "code",
   "execution_count": 21,
   "id": "c7b28db7",
   "metadata": {},
   "outputs": [
    {
     "data": {
      "text/plain": [
       "['data', 'science']"
      ]
     },
     "execution_count": 21,
     "metadata": {},
     "output_type": "execute_result"
    }
   ],
   "source": [
    "string.split()"
   ]
  },
  {
   "cell_type": "code",
   "execution_count": 22,
   "id": "a81d521c",
   "metadata": {},
   "outputs": [
    {
     "name": "stdout",
     "output_type": "stream",
     "text": [
      "d 0\n",
      "a 1\n",
      "t 2\n",
      "a 3\n",
      "  4\n",
      "s 5\n",
      "c 6\n",
      "i 7\n",
      "e 8\n",
      "n 9\n",
      "c 10\n",
      "e 11\n"
     ]
    }
   ],
   "source": [
    "for x in range(len(string)):\n",
    "    print(string[x],x)"
   ]
  },
  {
   "cell_type": "code",
   "execution_count": 23,
   "id": "19851533",
   "metadata": {},
   "outputs": [
    {
     "name": "stdout",
     "output_type": "stream",
     "text": [
      "data 0\n",
      "science 1\n"
     ]
    }
   ],
   "source": [
    "data=string.split()\n",
    "for x in range (len(data)):\n",
    "    print(data[x],x)"
   ]
  },
  {
   "cell_type": "code",
   "execution_count": 24,
   "id": "66861813",
   "metadata": {},
   "outputs": [
    {
     "data": {
      "text/plain": [
       "['data', 'science', 1, 2, 3, 4, 100, True, False, [1, 2, 3, 4]]"
      ]
     },
     "execution_count": 24,
     "metadata": {},
     "output_type": "execute_result"
    }
   ],
   "source": [
    "l1"
   ]
  },
  {
   "cell_type": "code",
   "execution_count": 25,
   "id": "feaf0af7",
   "metadata": {},
   "outputs": [],
   "source": [
    "l1.append('Reaper') #append is a very imortant funtion needed in ML.Used to add to list"
   ]
  },
  {
   "cell_type": "code",
   "execution_count": 26,
   "id": "f386b166",
   "metadata": {},
   "outputs": [
    {
     "data": {
      "text/plain": [
       "['data', 'science', 1, 2, 3, 4, 100, True, False, [1, 2, 3, 4], 'Reaper']"
      ]
     },
     "execution_count": 26,
     "metadata": {},
     "output_type": "execute_result"
    }
   ],
   "source": [
    "l1"
   ]
  },
  {
   "cell_type": "code",
   "execution_count": 27,
   "id": "424aa82b",
   "metadata": {},
   "outputs": [
    {
     "data": {
      "text/plain": [
       "['data',\n",
       " 'science',\n",
       " 1,\n",
       " 'Altaf',\n",
       " 2,\n",
       " 3,\n",
       " 4,\n",
       " 100,\n",
       " True,\n",
       " False,\n",
       " [1, 2, 3, 4],\n",
       " 'Reaper']"
      ]
     },
     "execution_count": 27,
     "metadata": {},
     "output_type": "execute_result"
    }
   ],
   "source": [
    "l1.insert(3,'Altaf') #insert used to add to list between lines\n",
    "l1"
   ]
  },
  {
   "cell_type": "code",
   "execution_count": 28,
   "id": "3a4aa21e",
   "metadata": {},
   "outputs": [],
   "source": [
    "#index = tells the position\n",
    "#remove/pop = deletes from list(pop for index and remove for specific value)"
   ]
  },
  {
   "cell_type": "code",
   "execution_count": 29,
   "id": "75ba1201",
   "metadata": {},
   "outputs": [
    {
     "data": {
      "text/plain": [
       "1978637781440"
      ]
     },
     "execution_count": 29,
     "metadata": {},
     "output_type": "execute_result"
    }
   ],
   "source": [
    "#to get the address use id\n",
    "id(l1)"
   ]
  },
  {
   "cell_type": "code",
   "execution_count": 30,
   "id": "62487ef4",
   "metadata": {},
   "outputs": [
    {
     "data": {
      "text/plain": [
       "['data',\n",
       " 'science',\n",
       " 1,\n",
       " 'Altaf',\n",
       " 2,\n",
       " 3,\n",
       " 4,\n",
       " 100,\n",
       " True,\n",
       " False,\n",
       " [1, 2, 3, 4],\n",
       " 'Reaper']"
      ]
     },
     "execution_count": 30,
     "metadata": {},
     "output_type": "execute_result"
    }
   ],
   "source": [
    "l2=l1 #l2  change if l1 altered\n",
    "l2"
   ]
  },
  {
   "cell_type": "code",
   "execution_count": 31,
   "id": "3b3b4afc",
   "metadata": {},
   "outputs": [
    {
     "data": {
      "text/plain": [
       "['data', 'science', 1, 'Altaf', 2, 4, 100, True, False, [1, 2, 3, 4], 'Reaper']"
      ]
     },
     "execution_count": 31,
     "metadata": {},
     "output_type": "execute_result"
    }
   ],
   "source": [
    "l1.pop(5)\n",
    "l2"
   ]
  },
  {
   "cell_type": "code",
   "execution_count": 32,
   "id": "270a62fe",
   "metadata": {},
   "outputs": [
    {
     "data": {
      "text/plain": [
       "['data', 'science', 1, 'Altaf', 2, 4, 100, True, False, [1, 2, 3, 4], 'Reaper']"
      ]
     },
     "execution_count": 32,
     "metadata": {},
     "output_type": "execute_result"
    }
   ],
   "source": [
    "l3=l2.copy() #copy= creates separate disconnected list, if l2 changed l3 remain same\n",
    "\n",
    "l2"
   ]
  },
  {
   "cell_type": "code",
   "execution_count": 33,
   "id": "288d675a",
   "metadata": {},
   "outputs": [
    {
     "data": {
      "text/plain": [
       "['data', 'science', 1, 'Altaf', 2, 4, 100, True, False, [1, 2, 3, 4], 'Reaper']"
      ]
     },
     "execution_count": 33,
     "metadata": {},
     "output_type": "execute_result"
    }
   ],
   "source": [
    "l3"
   ]
  },
  {
   "cell_type": "code",
   "execution_count": 34,
   "id": "2e1c9b07",
   "metadata": {},
   "outputs": [
    {
     "data": {
      "text/plain": [
       "'Altaf'"
      ]
     },
     "execution_count": 34,
     "metadata": {},
     "output_type": "execute_result"
    }
   ],
   "source": [
    "l2.pop(3)\n"
   ]
  },
  {
   "cell_type": "code",
   "execution_count": 35,
   "id": "f63f9e16",
   "metadata": {},
   "outputs": [
    {
     "data": {
      "text/plain": [
       "['data', 'science', 1, 2, 4, 100, True, False, [1, 2, 3, 4], 'Reaper']"
      ]
     },
     "execution_count": 35,
     "metadata": {},
     "output_type": "execute_result"
    }
   ],
   "source": [
    "l2"
   ]
  },
  {
   "cell_type": "code",
   "execution_count": 36,
   "id": "46fbe9c4",
   "metadata": {},
   "outputs": [
    {
     "data": {
      "text/plain": [
       "['data', 'science', 1, 'Altaf', 2, 4, 100, True, False, [1, 2, 3, 4], 'Reaper']"
      ]
     },
     "execution_count": 36,
     "metadata": {},
     "output_type": "execute_result"
    }
   ],
   "source": [
    "l3 #remains unchanged"
   ]
  },
  {
   "cell_type": "code",
   "execution_count": 37,
   "id": "fd105295",
   "metadata": {},
   "outputs": [],
   "source": [
    "#l3.sort() #sort list containing same type\n",
    "#reverse\n",
    "#count = counts how many times present\n",
    "#clear"
   ]
  },
  {
   "cell_type": "code",
   "execution_count": 38,
   "id": "b5e98508",
   "metadata": {},
   "outputs": [],
   "source": [
    "l3.clear()"
   ]
  },
  {
   "cell_type": "code",
   "execution_count": 39,
   "id": "294df126",
   "metadata": {},
   "outputs": [
    {
     "data": {
      "text/plain": [
       "[]"
      ]
     },
     "execution_count": 39,
     "metadata": {},
     "output_type": "execute_result"
    }
   ],
   "source": [
    "l3"
   ]
  },
  {
   "cell_type": "code",
   "execution_count": 40,
   "id": "51062aed",
   "metadata": {},
   "outputs": [
    {
     "data": {
      "text/plain": [
       "[1, 2, 7, 8, 10, 1, 3, 7]"
      ]
     },
     "execution_count": 40,
     "metadata": {},
     "output_type": "execute_result"
    }
   ],
   "source": [
    "l3=[1,2,7,8,10,1,3,7]\n",
    "l3"
   ]
  },
  {
   "cell_type": "code",
   "execution_count": 45,
   "id": "75666f82",
   "metadata": {},
   "outputs": [
    {
     "name": "stdout",
     "output_type": "stream",
     "text": [
      "1\n",
      "3\n",
      "10\n",
      "18\n",
      "28\n",
      "29\n",
      "32\n",
      "39\n",
      "total =  39\n"
     ]
    }
   ],
   "source": [
    "total=0\n",
    "for x in l3:\n",
    "    total+=x\n",
    "    print(total)\n",
    "print('total = ',total)"
   ]
  },
  {
   "cell_type": "markdown",
   "id": "d64d05d0",
   "metadata": {},
   "source": [
    "### input function"
   ]
  },
  {
   "cell_type": "code",
   "execution_count": 46,
   "id": "db9cc92c",
   "metadata": {},
   "outputs": [
    {
     "name": "stdout",
     "output_type": "stream",
     "text": [
      "20\n",
      "30\n"
     ]
    },
    {
     "data": {
      "text/plain": [
       "'2030'"
      ]
     },
     "execution_count": 46,
     "metadata": {},
     "output_type": "execute_result"
    }
   ],
   "source": [
    "x=input() #input in form of string so addition leads to combination\n",
    "y=input()\n",
    "x+y"
   ]
  },
  {
   "cell_type": "code",
   "execution_count": 48,
   "id": "c4fff551",
   "metadata": {},
   "outputs": [
    {
     "name": "stdout",
     "output_type": "stream",
     "text": [
      "Enter Number20\n",
      "Enter Number30\n"
     ]
    },
    {
     "data": {
      "text/plain": [
       "50"
      ]
     },
     "execution_count": 48,
     "metadata": {},
     "output_type": "execute_result"
    }
   ],
   "source": [
    "x=int(input('Enter Number'))\n",
    "y=int(input('Enter Number'))\n",
    "x+y"
   ]
  },
  {
   "cell_type": "code",
   "execution_count": 49,
   "id": "fa44617c",
   "metadata": {},
   "outputs": [
    {
     "name": "stdout",
     "output_type": "stream",
     "text": [
      "3\n",
      "altaf\n",
      "['altaf']\n",
      "cse\n",
      "['altaf', 'cse']\n",
      "bsc\n",
      "['altaf', 'cse', 'bsc']\n"
     ]
    }
   ],
   "source": [
    "list1=[]\n",
    "n=int(input())\n",
    "for i in range(n):\n",
    "    new_element=input()\n",
    "    list1.append(new_element)\n",
    "    print(list1)"
   ]
  },
  {
   "cell_type": "markdown",
   "id": "4c77d7a0",
   "metadata": {},
   "source": [
    "### Tuple in python"
   ]
  },
  {
   "cell_type": "code",
   "execution_count": 50,
   "id": "5ee6fb64",
   "metadata": {},
   "outputs": [],
   "source": [
    "tup1=('datascience','ai')"
   ]
  },
  {
   "cell_type": "code",
   "execution_count": 51,
   "id": "60727d94",
   "metadata": {},
   "outputs": [
    {
     "data": {
      "text/plain": [
       "tuple"
      ]
     },
     "execution_count": 51,
     "metadata": {},
     "output_type": "execute_result"
    }
   ],
   "source": [
    "  type(tup1)"
   ]
  },
  {
   "cell_type": "code",
   "execution_count": 52,
   "id": "14d9194d",
   "metadata": {},
   "outputs": [
    {
     "ename": "TypeError",
     "evalue": "'tuple' object does not support item assignment",
     "output_type": "error",
     "traceback": [
      "\u001b[1;31m---------------------------------------------------------------------------\u001b[0m",
      "\u001b[1;31mTypeError\u001b[0m                                 Traceback (most recent call last)",
      "\u001b[1;32m~\\AppData\\Local\\Temp\\ipykernel_12472\\1602379670.py\u001b[0m in \u001b[0;36m<module>\u001b[1;34m\u001b[0m\n\u001b[1;32m----> 1\u001b[1;33m \u001b[0mtup1\u001b[0m\u001b[1;33m[\u001b[0m\u001b[1;36m0\u001b[0m\u001b[1;33m]\u001b[0m\u001b[1;33m=\u001b[0m\u001b[1;36m1\u001b[0m\u001b[1;33m\u001b[0m\u001b[1;33m\u001b[0m\u001b[0m\n\u001b[0m",
      "\u001b[1;31mTypeError\u001b[0m: 'tuple' object does not support item assignment"
     ]
    }
   ],
   "source": [
    "tup1[0]=1"
   ]
  },
  {
   "cell_type": "code",
   "execution_count": 53,
   "id": "120c5d68",
   "metadata": {},
   "outputs": [],
   "source": [
    "tup2=list(tup1)"
   ]
  },
  {
   "cell_type": "code",
   "execution_count": 58,
   "id": "800e2bb5",
   "metadata": {},
   "outputs": [
    {
     "data": {
      "text/plain": [
       "list"
      ]
     },
     "execution_count": 58,
     "metadata": {},
     "output_type": "execute_result"
    }
   ],
   "source": [
    "type(tup2)"
   ]
  },
  {
   "cell_type": "code",
   "execution_count": 54,
   "id": "a57c9deb",
   "metadata": {},
   "outputs": [],
   "source": [
    "tup2[0]=1"
   ]
  },
  {
   "cell_type": "code",
   "execution_count": 55,
   "id": "e2c080d6",
   "metadata": {},
   "outputs": [
    {
     "data": {
      "text/plain": [
       "[1, 'ai']"
      ]
     },
     "execution_count": 55,
     "metadata": {},
     "output_type": "execute_result"
    }
   ],
   "source": [
    "tup2"
   ]
  },
  {
   "cell_type": "code",
   "execution_count": 56,
   "id": "908a5235",
   "metadata": {},
   "outputs": [],
   "source": [
    "tup1=tuple(tup2)"
   ]
  },
  {
   "cell_type": "code",
   "execution_count": 57,
   "id": "31363ae0",
   "metadata": {},
   "outputs": [
    {
     "data": {
      "text/plain": [
       "(1, 'ai')"
      ]
     },
     "execution_count": 57,
     "metadata": {},
     "output_type": "execute_result"
    }
   ],
   "source": [
    "tup1"
   ]
  },
  {
   "cell_type": "code",
   "execution_count": 59,
   "id": "f0354ea4",
   "metadata": {},
   "outputs": [
    {
     "data": {
      "text/plain": [
       "True"
      ]
     },
     "execution_count": 59,
     "metadata": {},
     "output_type": "execute_result"
    }
   ],
   "source": [
    "'ai' in tup1 #checks whether present or not"
   ]
  },
  {
   "cell_type": "code",
   "execution_count": 60,
   "id": "4e0ee7c2",
   "metadata": {},
   "outputs": [
    {
     "data": {
      "text/plain": [
       "False"
      ]
     },
     "execution_count": 60,
     "metadata": {},
     "output_type": "execute_result"
    }
   ],
   "source": [
    "10 in tup1"
   ]
  },
  {
   "cell_type": "code",
   "execution_count": 61,
   "id": "53b82552",
   "metadata": {},
   "outputs": [],
   "source": [
    "#cannot remove or delete any inputed data in tuple"
   ]
  },
  {
   "cell_type": "code",
   "execution_count": 62,
   "id": "78d1ca41",
   "metadata": {},
   "outputs": [],
   "source": [
    "slic=tup1[1:2]"
   ]
  },
  {
   "cell_type": "code",
   "execution_count": 63,
   "id": "524bd43a",
   "metadata": {},
   "outputs": [
    {
     "data": {
      "text/plain": [
       "('ai',)"
      ]
     },
     "execution_count": 63,
     "metadata": {},
     "output_type": "execute_result"
    }
   ],
   "source": [
    "slic"
   ]
  },
  {
   "cell_type": "code",
   "execution_count": 64,
   "id": "ed9b7c20",
   "metadata": {},
   "outputs": [
    {
     "data": {
      "text/plain": [
       "(1,)"
      ]
     },
     "execution_count": 64,
     "metadata": {},
     "output_type": "execute_result"
    }
   ],
   "source": [
    "tup1[:1]"
   ]
  },
  {
   "cell_type": "code",
   "execution_count": 65,
   "id": "743f05c6",
   "metadata": {},
   "outputs": [
    {
     "data": {
      "text/plain": [
       "('ai', 1)"
      ]
     },
     "execution_count": 65,
     "metadata": {},
     "output_type": "execute_result"
    }
   ],
   "source": [
    "tup1[1:2]+tup1[:1]"
   ]
  },
  {
   "cell_type": "code",
   "execution_count": 66,
   "id": "5f3214a9",
   "metadata": {},
   "outputs": [
    {
     "data": {
      "text/plain": [
       "(1, 'ai')"
      ]
     },
     "execution_count": 66,
     "metadata": {},
     "output_type": "execute_result"
    }
   ],
   "source": [
    "tup1[:1]+tup1[1:2]"
   ]
  },
  {
   "cell_type": "markdown",
   "id": "3ff81db8",
   "metadata": {},
   "source": [
    "### set in python"
   ]
  },
  {
   "cell_type": "code",
   "execution_count": 67,
   "id": "850ec900",
   "metadata": {},
   "outputs": [],
   "source": [
    "s1={1,2,3,4,5,6}"
   ]
  },
  {
   "cell_type": "code",
   "execution_count": 68,
   "id": "577385fe",
   "metadata": {},
   "outputs": [
    {
     "data": {
      "text/plain": [
       "{1, 2, 3, 4, 5, 6}"
      ]
     },
     "execution_count": 68,
     "metadata": {},
     "output_type": "execute_result"
    }
   ],
   "source": [
    "s1"
   ]
  },
  {
   "cell_type": "code",
   "execution_count": 70,
   "id": "55aa5c32",
   "metadata": {},
   "outputs": [
    {
     "ename": "TypeError",
     "evalue": "'set' object is not subscriptable",
     "output_type": "error",
     "traceback": [
      "\u001b[1;31m---------------------------------------------------------------------------\u001b[0m",
      "\u001b[1;31mTypeError\u001b[0m                                 Traceback (most recent call last)",
      "\u001b[1;32m~\\AppData\\Local\\Temp\\ipykernel_12472\\292141978.py\u001b[0m in \u001b[0;36m<module>\u001b[1;34m\u001b[0m\n\u001b[1;32m----> 1\u001b[1;33m \u001b[0ms1\u001b[0m\u001b[1;33m[\u001b[0m\u001b[1;36m0\u001b[0m\u001b[1;33m]\u001b[0m \u001b[1;31m#unordered socannot access or change\u001b[0m\u001b[1;33m\u001b[0m\u001b[1;33m\u001b[0m\u001b[0m\n\u001b[0m",
      "\u001b[1;31mTypeError\u001b[0m: 'set' object is not subscriptable"
     ]
    }
   ],
   "source": [
    "s1[0] #unordered socannot access or change"
   ]
  },
  {
   "cell_type": "code",
   "execution_count": 71,
   "id": "a1ee4cc8",
   "metadata": {},
   "outputs": [],
   "source": [
    "s1={1,2,3,4,4,4,5,5,1,1,1,2,3}"
   ]
  },
  {
   "cell_type": "code",
   "execution_count": 72,
   "id": "a5d3e719",
   "metadata": {},
   "outputs": [
    {
     "data": {
      "text/plain": [
       "{1, 2, 3, 4, 5}"
      ]
     },
     "execution_count": 72,
     "metadata": {},
     "output_type": "execute_result"
    }
   ],
   "source": [
    "s1 #dupes removed"
   ]
  },
  {
   "cell_type": "code",
   "execution_count": 75,
   "id": "5f105857",
   "metadata": {},
   "outputs": [],
   "source": [
    "s2={'ai','data',5,3}"
   ]
  },
  {
   "cell_type": "code",
   "execution_count": 76,
   "id": "7f2941b7",
   "metadata": {},
   "outputs": [
    {
     "data": {
      "text/plain": [
       "{3, 5}"
      ]
     },
     "execution_count": 76,
     "metadata": {},
     "output_type": "execute_result"
    }
   ],
   "source": [
    "s1.intersection(s2)"
   ]
  },
  {
   "cell_type": "code",
   "execution_count": 77,
   "id": "44cc3e05",
   "metadata": {},
   "outputs": [
    {
     "data": {
      "text/plain": [
       "{1, 2, 3, 4, 5, 'ai', 'data'}"
      ]
     },
     "execution_count": 77,
     "metadata": {},
     "output_type": "execute_result"
    }
   ],
   "source": [
    "s1.union(s2)"
   ]
  },
  {
   "cell_type": "code",
   "execution_count": 79,
   "id": "ead858c6",
   "metadata": {},
   "outputs": [
    {
     "data": {
      "text/plain": [
       "{1, 2, 3, 4, 5, 'ai', 'data'}"
      ]
     },
     "execution_count": 79,
     "metadata": {},
     "output_type": "execute_result"
    }
   ],
   "source": [
    "s1 | s2 #union"
   ]
  },
  {
   "cell_type": "code",
   "execution_count": 81,
   "id": "cf1ef765",
   "metadata": {},
   "outputs": [
    {
     "data": {
      "text/plain": [
       "{3, 5}"
      ]
     },
     "execution_count": 81,
     "metadata": {},
     "output_type": "execute_result"
    }
   ],
   "source": [
    "s1 & s2 #intersection"
   ]
  },
  {
   "cell_type": "code",
   "execution_count": 82,
   "id": "a94f573c",
   "metadata": {},
   "outputs": [],
   "source": [
    "s1.add(34)"
   ]
  },
  {
   "cell_type": "code",
   "execution_count": 83,
   "id": "68a16820",
   "metadata": {},
   "outputs": [
    {
     "data": {
      "text/plain": [
       "{1, 2, 3, 4, 5, 34}"
      ]
     },
     "execution_count": 83,
     "metadata": {},
     "output_type": "execute_result"
    }
   ],
   "source": [
    "s1"
   ]
  },
  {
   "cell_type": "code",
   "execution_count": 84,
   "id": "a5032bb6",
   "metadata": {},
   "outputs": [],
   "source": [
    "s1.remove(34)"
   ]
  },
  {
   "cell_type": "code",
   "execution_count": 85,
   "id": "006dd1a0",
   "metadata": {},
   "outputs": [
    {
     "data": {
      "text/plain": [
       "{1, 2, 3, 4, 5}"
      ]
     },
     "execution_count": 85,
     "metadata": {},
     "output_type": "execute_result"
    }
   ],
   "source": [
    "s1"
   ]
  },
  {
   "cell_type": "markdown",
   "id": "14c6b01a",
   "metadata": {},
   "source": [
    "### Array"
   ]
  },
  {
   "cell_type": "code",
   "execution_count": 86,
   "id": "b13bbc1c",
   "metadata": {},
   "outputs": [],
   "source": [
    "import array as ar"
   ]
  },
  {
   "cell_type": "code",
   "execution_count": 88,
   "id": "2fc1da0f",
   "metadata": {},
   "outputs": [],
   "source": [
    "array1=ar.array('i',[1,2,3,4,5]) #i for integer"
   ]
  },
  {
   "cell_type": "code",
   "execution_count": 89,
   "id": "6c785a83",
   "metadata": {},
   "outputs": [
    {
     "data": {
      "text/plain": [
       "array('i', [1, 2, 3, 4, 5])"
      ]
     },
     "execution_count": 89,
     "metadata": {},
     "output_type": "execute_result"
    }
   ],
   "source": [
    "array1"
   ]
  },
  {
   "cell_type": "code",
   "execution_count": 90,
   "id": "8d1347c6",
   "metadata": {},
   "outputs": [],
   "source": [
    "array1.insert(1,10)"
   ]
  },
  {
   "cell_type": "code",
   "execution_count": 91,
   "id": "a67bd536",
   "metadata": {},
   "outputs": [
    {
     "data": {
      "text/plain": [
       "array('i', [1, 10, 2, 3, 4, 5])"
      ]
     },
     "execution_count": 91,
     "metadata": {},
     "output_type": "execute_result"
    }
   ],
   "source": [
    "array1"
   ]
  },
  {
   "cell_type": "code",
   "execution_count": 92,
   "id": "a0a0e974",
   "metadata": {},
   "outputs": [],
   "source": [
    "array1.reverse()"
   ]
  },
  {
   "cell_type": "code",
   "execution_count": 93,
   "id": "5964b212",
   "metadata": {},
   "outputs": [
    {
     "data": {
      "text/plain": [
       "array('i', [5, 4, 3, 2, 10, 1])"
      ]
     },
     "execution_count": 93,
     "metadata": {},
     "output_type": "execute_result"
    }
   ],
   "source": [
    "array1"
   ]
  },
  {
   "cell_type": "markdown",
   "id": "619bb032",
   "metadata": {},
   "source": [
    "### dictionary"
   ]
  },
  {
   "cell_type": "code",
   "execution_count": 94,
   "id": "a7ed3178",
   "metadata": {},
   "outputs": [],
   "source": [
    "dic ={\n",
    "    'name':'altaf',\n",
    "    'id' : 193001412 ,\n",
    "    'dept' : 'CSE'\n",
    "}"
   ]
  },
  {
   "cell_type": "code",
   "execution_count": 95,
   "id": "a521cf82",
   "metadata": {},
   "outputs": [
    {
     "data": {
      "text/plain": [
       "{'name': 'altaf', 'id': 193001412, 'dept': 'CSE'}"
      ]
     },
     "execution_count": 95,
     "metadata": {},
     "output_type": "execute_result"
    }
   ],
   "source": [
    "dic"
   ]
  },
  {
   "cell_type": "code",
   "execution_count": 96,
   "id": "2d614321",
   "metadata": {},
   "outputs": [
    {
     "data": {
      "text/plain": [
       "dict_keys(['name', 'id', 'dept'])"
      ]
     },
     "execution_count": 96,
     "metadata": {},
     "output_type": "execute_result"
    }
   ],
   "source": [
    "dic.keys()"
   ]
  },
  {
   "cell_type": "code",
   "execution_count": 97,
   "id": "918b7f5e",
   "metadata": {},
   "outputs": [
    {
     "data": {
      "text/plain": [
       "dict_values(['altaf', 193001412, 'CSE'])"
      ]
     },
     "execution_count": 97,
     "metadata": {},
     "output_type": "execute_result"
    }
   ],
   "source": [
    "dic.values()"
   ]
  },
  {
   "cell_type": "code",
   "execution_count": 103,
   "id": "9d934ca0",
   "metadata": {},
   "outputs": [],
   "source": [
    "dic['name']='altaf uddin'"
   ]
  },
  {
   "cell_type": "code",
   "execution_count": 104,
   "id": "b78f008d",
   "metadata": {},
   "outputs": [
    {
     "data": {
      "text/plain": [
       "{'name': 'altaf uddin', 'id': 193001412, 'dept': 'CSE', 'varsity': 'edu'}"
      ]
     },
     "execution_count": 104,
     "metadata": {},
     "output_type": "execute_result"
    }
   ],
   "source": [
    "dic"
   ]
  },
  {
   "cell_type": "code",
   "execution_count": 101,
   "id": "4c510221",
   "metadata": {},
   "outputs": [],
   "source": [
    "dic={'name': 'altaf', 'id': 193001412, 'dept': 'CSE', 'varsity': 'NULL','varsity': 'edu'}"
   ]
  },
  {
   "cell_type": "code",
   "execution_count": 102,
   "id": "0c6854ca",
   "metadata": {},
   "outputs": [
    {
     "data": {
      "text/plain": [
       "{'name': 'altaf', 'id': 193001412, 'dept': 'CSE', 'varsity': 'edu'}"
      ]
     },
     "execution_count": 102,
     "metadata": {},
     "output_type": "execute_result"
    }
   ],
   "source": [
    "dic"
   ]
  },
  {
   "cell_type": "code",
   "execution_count": 105,
   "id": "a240f3b3",
   "metadata": {},
   "outputs": [
    {
     "data": {
      "text/plain": [
       "('varsity', 'edu')"
      ]
     },
     "execution_count": 105,
     "metadata": {},
     "output_type": "execute_result"
    }
   ],
   "source": [
    "dic.popitem()"
   ]
  },
  {
   "cell_type": "code",
   "execution_count": 106,
   "id": "c8bb3a65",
   "metadata": {},
   "outputs": [
    {
     "data": {
      "text/plain": [
       "{'name': 'altaf uddin', 'id': 193001412, 'dept': 'CSE'}"
      ]
     },
     "execution_count": 106,
     "metadata": {},
     "output_type": "execute_result"
    }
   ],
   "source": [
    "dic"
   ]
  },
  {
   "cell_type": "markdown",
   "id": "351c32fc",
   "metadata": {},
   "source": [
    " 2:02:00"
   ]
  }
 ],
 "metadata": {
  "kernelspec": {
   "display_name": "Python 3 (ipykernel)",
   "language": "python",
   "name": "python3"
  },
  "language_info": {
   "codemirror_mode": {
    "name": "ipython",
    "version": 3
   },
   "file_extension": ".py",
   "mimetype": "text/x-python",
   "name": "python",
   "nbconvert_exporter": "python",
   "pygments_lexer": "ipython3",
   "version": "3.9.13"
  },
  "varInspector": {
   "cols": {
    "lenName": 16,
    "lenType": 16,
    "lenVar": 40
   },
   "kernels_config": {
    "python": {
     "delete_cmd_postfix": "",
     "delete_cmd_prefix": "del ",
     "library": "var_list.py",
     "varRefreshCmd": "print(var_dic_list())"
    },
    "r": {
     "delete_cmd_postfix": ") ",
     "delete_cmd_prefix": "rm(",
     "library": "var_list.r",
     "varRefreshCmd": "cat(var_dic_list()) "
    }
   },
   "types_to_exclude": [
    "module",
    "function",
    "builtin_function_or_method",
    "instance",
    "_Feature"
   ],
   "window_display": false
  }
 },
 "nbformat": 4,
 "nbformat_minor": 5
}
