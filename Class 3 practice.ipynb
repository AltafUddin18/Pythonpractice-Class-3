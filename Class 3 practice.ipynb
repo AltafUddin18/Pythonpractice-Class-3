{
 "cells": [
  {
   "cell_type": "markdown",
   "id": "5b63eed8",
   "metadata": {},
   "source": [
    "# Class 3"
   ]
  },
  {
   "cell_type": "markdown",
   "id": "14da79f8",
   "metadata": {},
   "source": [
    "## Data Structure in Python"
   ]
  },
  {
   "cell_type": "markdown",
   "id": "2f69ae51",
   "metadata": {},
   "source": [
    "### List"
   ]
  },
  {
   "cell_type": "markdown",
   "id": "9a3cf82a",
   "metadata": {},
   "source": [
    "#### 1. Odered\n",
    "#### 2. Changeable\n",
    "#### 3. Allow Duplicate"
   ]
  },
  {
   "cell_type": "code",
   "execution_count": 223,
   "id": "926cb711",
   "metadata": {},
   "outputs": [],
   "source": [
    "l1 = ['data','science',1,2,3,4,100,True,False,[1,2,3,4]]"
   ]
  },
  {
   "cell_type": "code",
   "execution_count": 224,
   "id": "1cc7927d",
   "metadata": {},
   "outputs": [
    {
     "data": {
      "text/plain": [
       "['data', 'science', 1, 2, 3, 4, 100, True, False, [1, 2, 3, 4]]"
      ]
     },
     "execution_count": 224,
     "metadata": {},
     "output_type": "execute_result"
    }
   ],
   "source": [
    "l1"
   ]
  },
  {
   "cell_type": "code",
   "execution_count": 225,
   "id": "90ab6399",
   "metadata": {},
   "outputs": [
    {
     "data": {
      "text/plain": [
       "136"
      ]
     },
     "execution_count": 225,
     "metadata": {},
     "output_type": "execute_result"
    }
   ],
   "source": [
    "import sys\n",
    "sys.getsizeof(l1)"
   ]
  },
  {
   "cell_type": "code",
   "execution_count": 226,
   "id": "3c2940e9",
   "metadata": {},
   "outputs": [],
   "source": [
    "t1 = ('data','science',1,2,3,4,100,True,False,[1,2,3,4])"
   ]
  },
  {
   "cell_type": "code",
   "execution_count": 227,
   "id": "68c85f38",
   "metadata": {},
   "outputs": [
    {
     "data": {
      "text/plain": [
       "120"
      ]
     },
     "execution_count": 227,
     "metadata": {},
     "output_type": "execute_result"
    }
   ],
   "source": [
    "sys.getsizeof(t1) "
   ]
  },
  {
   "cell_type": "code",
   "execution_count": 228,
   "id": "a0e945df",
   "metadata": {},
   "outputs": [
    {
     "data": {
      "text/plain": [
       "[1, 2, 3, 4]"
      ]
     },
     "execution_count": 228,
     "metadata": {},
     "output_type": "execute_result"
    }
   ],
   "source": [
    "t1[-1]"
   ]
  },
  {
   "cell_type": "code",
   "execution_count": 229,
   "id": "3f945a8d",
   "metadata": {},
   "outputs": [
    {
     "data": {
      "text/plain": [
       "'science'"
      ]
     },
     "execution_count": 229,
     "metadata": {},
     "output_type": "execute_result"
    }
   ],
   "source": [
    "t1[1]"
   ]
  },
  {
   "cell_type": "code",
   "execution_count": 230,
   "id": "b72468f6",
   "metadata": {},
   "outputs": [
    {
     "data": {
      "text/plain": [
       "False"
      ]
     },
     "execution_count": 230,
     "metadata": {},
     "output_type": "execute_result"
    }
   ],
   "source": [
    "t1[-2]"
   ]
  },
  {
   "cell_type": "code",
   "execution_count": 231,
   "id": "28455d76",
   "metadata": {},
   "outputs": [
    {
     "data": {
      "text/plain": [
       "4"
      ]
     },
     "execution_count": 231,
     "metadata": {},
     "output_type": "execute_result"
    }
   ],
   "source": [
    "t1[-1][-1]"
   ]
  },
  {
   "cell_type": "code",
   "execution_count": 232,
   "id": "b9be959f",
   "metadata": {},
   "outputs": [],
   "source": [
    "#tuple doesnt accept Dupes"
   ]
  },
  {
   "cell_type": "code",
   "execution_count": 233,
   "id": "8d764173",
   "metadata": {},
   "outputs": [
    {
     "ename": "TypeError",
     "evalue": "'tuple' object does not support item assignment",
     "output_type": "error",
     "traceback": [
      "\u001b[1;31m---------------------------------------------------------------------------\u001b[0m",
      "\u001b[1;31mTypeError\u001b[0m                                 Traceback (most recent call last)",
      "\u001b[1;32m~\\AppData\\Local\\Temp\\ipykernel_6832\\487587784.py\u001b[0m in \u001b[0;36m<module>\u001b[1;34m\u001b[0m\n\u001b[1;32m----> 1\u001b[1;33m \u001b[0mt1\u001b[0m\u001b[1;33m[\u001b[0m\u001b[1;36m0\u001b[0m\u001b[1;33m]\u001b[0m\u001b[1;33m=\u001b[0m\u001b[1;34m'science'\u001b[0m\u001b[1;33m\u001b[0m\u001b[1;33m\u001b[0m\u001b[0m\n\u001b[0m",
      "\u001b[1;31mTypeError\u001b[0m: 'tuple' object does not support item assignment"
     ]
    }
   ],
   "source": [
    "t1[0]='science'"
   ]
  },
  {
   "cell_type": "code",
   "execution_count": null,
   "id": "79b2d7ca",
   "metadata": {},
   "outputs": [],
   "source": [
    "l1[2:6] #colon indicates range"
   ]
  },
  {
   "cell_type": "code",
   "execution_count": null,
   "id": "e371d409",
   "metadata": {},
   "outputs": [],
   "source": [
    "l1[-4:-1] #colon indicates range"
   ]
  },
  {
   "cell_type": "code",
   "execution_count": null,
   "id": "d1a0a101",
   "metadata": {},
   "outputs": [],
   "source": [
    " string='data science'"
   ]
  },
  {
   "cell_type": "code",
   "execution_count": null,
   "id": "c7b28db7",
   "metadata": {},
   "outputs": [],
   "source": [
    "string.split()"
   ]
  },
  {
   "cell_type": "code",
   "execution_count": null,
   "id": "a81d521c",
   "metadata": {},
   "outputs": [],
   "source": [
    "for x in range(len(string)):\n",
    "    print(string[x],x)"
   ]
  },
  {
   "cell_type": "code",
   "execution_count": null,
   "id": "19851533",
   "metadata": {},
   "outputs": [],
   "source": [
    "data=string.split()\n",
    "for x in range (len(data)):\n",
    "    print(data[x],x)"
   ]
  },
  {
   "cell_type": "code",
   "execution_count": null,
   "id": "66861813",
   "metadata": {},
   "outputs": [],
   "source": [
    "l1"
   ]
  },
  {
   "cell_type": "code",
   "execution_count": null,
   "id": "feaf0af7",
   "metadata": {},
   "outputs": [],
   "source": [
    "l1.append('Reaper') #append is a very imortant funtion needed in ML.Used to add to list"
   ]
  },
  {
   "cell_type": "code",
   "execution_count": null,
   "id": "f386b166",
   "metadata": {},
   "outputs": [],
   "source": [
    "l1"
   ]
  },
  {
   "cell_type": "code",
   "execution_count": null,
   "id": "424aa82b",
   "metadata": {},
   "outputs": [],
   "source": [
    "l1.insert(3,'Altaf') #insert used to add to list between lines\n",
    "l1"
   ]
  },
  {
   "cell_type": "code",
   "execution_count": null,
   "id": "3a4aa21e",
   "metadata": {},
   "outputs": [],
   "source": [
    "#index = tells the position\n",
    "#remove/pop = deletes from list(pop for index and remove for specific value)"
   ]
  },
  {
   "cell_type": "code",
   "execution_count": null,
   "id": "75ba1201",
   "metadata": {},
   "outputs": [],
   "source": [
    "#to get the address use id\n",
    "id(l1)"
   ]
  },
  {
   "cell_type": "code",
   "execution_count": null,
   "id": "62487ef4",
   "metadata": {},
   "outputs": [],
   "source": [
    "l2=l1 #l2  change if l1 altered\n",
    "l2"
   ]
  },
  {
   "cell_type": "code",
   "execution_count": null,
   "id": "3b3b4afc",
   "metadata": {},
   "outputs": [],
   "source": [
    "l1.pop(5)\n",
    "l2"
   ]
  },
  {
   "cell_type": "code",
   "execution_count": null,
   "id": "270a62fe",
   "metadata": {},
   "outputs": [],
   "source": [
    "l3=l2.copy() #copy= creates separate disconnected list, if l2 changed l3 remain same\n",
    "\n",
    "l2"
   ]
  },
  {
   "cell_type": "code",
   "execution_count": null,
   "id": "288d675a",
   "metadata": {},
   "outputs": [],
   "source": [
    "l3"
   ]
  },
  {
   "cell_type": "code",
   "execution_count": null,
   "id": "2e1c9b07",
   "metadata": {},
   "outputs": [],
   "source": [
    "l2.pop(3)\n"
   ]
  },
  {
   "cell_type": "code",
   "execution_count": null,
   "id": "f63f9e16",
   "metadata": {},
   "outputs": [],
   "source": [
    "l2"
   ]
  },
  {
   "cell_type": "code",
   "execution_count": null,
   "id": "46fbe9c4",
   "metadata": {},
   "outputs": [],
   "source": [
    "l3 #remains unchanged"
   ]
  },
  {
   "cell_type": "code",
   "execution_count": null,
   "id": "fd105295",
   "metadata": {},
   "outputs": [],
   "source": [
    "#l3.sort() #sort list containing same type\n",
    "#reverse\n",
    "#count = counts how many times present\n",
    "#clear"
   ]
  },
  {
   "cell_type": "code",
   "execution_count": null,
   "id": "b5e98508",
   "metadata": {},
   "outputs": [],
   "source": [
    "l3.clear()"
   ]
  },
  {
   "cell_type": "code",
   "execution_count": null,
   "id": "294df126",
   "metadata": {},
   "outputs": [],
   "source": [
    "l3"
   ]
  },
  {
   "cell_type": "code",
   "execution_count": null,
   "id": "51062aed",
   "metadata": {},
   "outputs": [],
   "source": [
    "l3=[1,2,7,8,10,1,3,7]\n",
    "l3"
   ]
  },
  {
   "cell_type": "code",
   "execution_count": null,
   "id": "75666f82",
   "metadata": {},
   "outputs": [],
   "source": [
    "total=0\n",
    "for x in l3:\n",
    "    total+=x\n",
    "    print(total)\n",
    "print('total = ',total)"
   ]
  },
  {
   "cell_type": "markdown",
   "id": "d64d05d0",
   "metadata": {},
   "source": [
    "### input function"
   ]
  },
  {
   "cell_type": "code",
   "execution_count": null,
   "id": "db9cc92c",
   "metadata": {},
   "outputs": [],
   "source": [
    "x=input() #input in form of string so addition leads to combination\n",
    "y=input()\n",
    "x+y"
   ]
  },
  {
   "cell_type": "code",
   "execution_count": null,
   "id": "c4fff551",
   "metadata": {},
   "outputs": [],
   "source": [
    "x=int(input('Enter Number'))\n",
    "y=int(input('Enter Number'))\n",
    "x+y"
   ]
  },
  {
   "cell_type": "code",
   "execution_count": null,
   "id": "fa44617c",
   "metadata": {},
   "outputs": [],
   "source": [
    "list1=[]\n",
    "n=int(input())\n",
    "for i in range(n):\n",
    "    new_element=input()\n",
    "    list1.append(new_element)\n",
    "    print(list1)"
   ]
  },
  {
   "cell_type": "markdown",
   "id": "4c77d7a0",
   "metadata": {},
   "source": [
    "### Tuple in python"
   ]
  },
  {
   "cell_type": "code",
   "execution_count": null,
   "id": "5ee6fb64",
   "metadata": {},
   "outputs": [],
   "source": [
    "tup1=('datascience','ai')"
   ]
  },
  {
   "cell_type": "code",
   "execution_count": null,
   "id": "60727d94",
   "metadata": {},
   "outputs": [],
   "source": [
    "  type(tup1)"
   ]
  },
  {
   "cell_type": "code",
   "execution_count": null,
   "id": "14d9194d",
   "metadata": {},
   "outputs": [],
   "source": [
    "tup1[0]=1"
   ]
  },
  {
   "cell_type": "code",
   "execution_count": null,
   "id": "120c5d68",
   "metadata": {},
   "outputs": [],
   "source": [
    "tup2=list(tup1)"
   ]
  },
  {
   "cell_type": "code",
   "execution_count": null,
   "id": "800e2bb5",
   "metadata": {},
   "outputs": [],
   "source": [
    "type(tup2)"
   ]
  },
  {
   "cell_type": "code",
   "execution_count": null,
   "id": "a57c9deb",
   "metadata": {},
   "outputs": [],
   "source": [
    "tup2[0]=1"
   ]
  },
  {
   "cell_type": "code",
   "execution_count": null,
   "id": "e2c080d6",
   "metadata": {},
   "outputs": [],
   "source": [
    "tup2"
   ]
  },
  {
   "cell_type": "code",
   "execution_count": null,
   "id": "908a5235",
   "metadata": {},
   "outputs": [],
   "source": [
    "tup1=tuple(tup2)"
   ]
  },
  {
   "cell_type": "code",
   "execution_count": null,
   "id": "31363ae0",
   "metadata": {},
   "outputs": [],
   "source": [
    "tup1"
   ]
  },
  {
   "cell_type": "code",
   "execution_count": null,
   "id": "f0354ea4",
   "metadata": {},
   "outputs": [],
   "source": [
    "'ai' in tup1 #checks whether present or not"
   ]
  },
  {
   "cell_type": "code",
   "execution_count": null,
   "id": "4e0ee7c2",
   "metadata": {},
   "outputs": [],
   "source": [
    "10 in tup1"
   ]
  },
  {
   "cell_type": "code",
   "execution_count": null,
   "id": "53b82552",
   "metadata": {},
   "outputs": [],
   "source": [
    "#cannot remove or delete any inputed data in tuple"
   ]
  },
  {
   "cell_type": "code",
   "execution_count": null,
   "id": "78d1ca41",
   "metadata": {},
   "outputs": [],
   "source": [
    "slic=tup1[1:2]"
   ]
  },
  {
   "cell_type": "code",
   "execution_count": null,
   "id": "524bd43a",
   "metadata": {},
   "outputs": [],
   "source": [
    "slic"
   ]
  },
  {
   "cell_type": "code",
   "execution_count": null,
   "id": "ed9b7c20",
   "metadata": {},
   "outputs": [],
   "source": [
    "tup1[:1]"
   ]
  },
  {
   "cell_type": "code",
   "execution_count": null,
   "id": "743f05c6",
   "metadata": {},
   "outputs": [],
   "source": [
    "tup1[1:2]+tup1[:1]"
   ]
  },
  {
   "cell_type": "code",
   "execution_count": null,
   "id": "5f3214a9",
   "metadata": {},
   "outputs": [],
   "source": [
    "tup1[:1]+tup1[1:2]"
   ]
  },
  {
   "cell_type": "markdown",
   "id": "3ff81db8",
   "metadata": {},
   "source": [
    "### set in python"
   ]
  },
  {
   "cell_type": "code",
   "execution_count": null,
   "id": "850ec900",
   "metadata": {},
   "outputs": [],
   "source": [
    "s1={1,2,3,4,5,6}"
   ]
  },
  {
   "cell_type": "code",
   "execution_count": null,
   "id": "577385fe",
   "metadata": {},
   "outputs": [],
   "source": [
    "s1"
   ]
  },
  {
   "cell_type": "code",
   "execution_count": null,
   "id": "55aa5c32",
   "metadata": {},
   "outputs": [],
   "source": [
    "s1[0] #unordered socannot access or change"
   ]
  },
  {
   "cell_type": "code",
   "execution_count": null,
   "id": "a1ee4cc8",
   "metadata": {},
   "outputs": [],
   "source": [
    "s1={1,2,3,4,4,4,5,5,1,1,1,2,3}"
   ]
  },
  {
   "cell_type": "code",
   "execution_count": null,
   "id": "a5d3e719",
   "metadata": {},
   "outputs": [],
   "source": [
    "s1 #dupes removed"
   ]
  },
  {
   "cell_type": "code",
   "execution_count": null,
   "id": "5f105857",
   "metadata": {},
   "outputs": [],
   "source": [
    "s2={'ai','data',5,3}"
   ]
  },
  {
   "cell_type": "code",
   "execution_count": null,
   "id": "7f2941b7",
   "metadata": {},
   "outputs": [],
   "source": [
    "s1.intersection(s2)"
   ]
  },
  {
   "cell_type": "code",
   "execution_count": null,
   "id": "44cc3e05",
   "metadata": {},
   "outputs": [],
   "source": [
    "s1.union(s2)"
   ]
  },
  {
   "cell_type": "code",
   "execution_count": null,
   "id": "ead858c6",
   "metadata": {},
   "outputs": [],
   "source": [
    "s1 | s2 #union"
   ]
  },
  {
   "cell_type": "code",
   "execution_count": null,
   "id": "cf1ef765",
   "metadata": {},
   "outputs": [],
   "source": [
    "s1 & s2 #intersection"
   ]
  },
  {
   "cell_type": "code",
   "execution_count": null,
   "id": "a94f573c",
   "metadata": {},
   "outputs": [],
   "source": [
    "s1.add(34)"
   ]
  },
  {
   "cell_type": "code",
   "execution_count": null,
   "id": "68a16820",
   "metadata": {},
   "outputs": [],
   "source": [
    "s1"
   ]
  },
  {
   "cell_type": "code",
   "execution_count": null,
   "id": "a5032bb6",
   "metadata": {},
   "outputs": [],
   "source": [
    "s1.remove(34)"
   ]
  },
  {
   "cell_type": "code",
   "execution_count": null,
   "id": "006dd1a0",
   "metadata": {},
   "outputs": [],
   "source": [
    "s1"
   ]
  },
  {
   "cell_type": "markdown",
   "id": "14c6b01a",
   "metadata": {},
   "source": [
    "### Array"
   ]
  },
  {
   "cell_type": "code",
   "execution_count": null,
   "id": "b13bbc1c",
   "metadata": {},
   "outputs": [],
   "source": [
    "import array as ar"
   ]
  },
  {
   "cell_type": "code",
   "execution_count": null,
   "id": "2fc1da0f",
   "metadata": {},
   "outputs": [],
   "source": [
    "array1=ar.array('i',[1,2,3,4,5]) #i for integer"
   ]
  },
  {
   "cell_type": "code",
   "execution_count": null,
   "id": "6c785a83",
   "metadata": {},
   "outputs": [],
   "source": [
    "array1"
   ]
  },
  {
   "cell_type": "code",
   "execution_count": null,
   "id": "8d1347c6",
   "metadata": {},
   "outputs": [],
   "source": [
    "array1.insert(1,10)"
   ]
  },
  {
   "cell_type": "code",
   "execution_count": null,
   "id": "a67bd536",
   "metadata": {},
   "outputs": [],
   "source": [
    "array1"
   ]
  },
  {
   "cell_type": "code",
   "execution_count": null,
   "id": "a0a0e974",
   "metadata": {},
   "outputs": [],
   "source": [
    "array1.reverse()"
   ]
  },
  {
   "cell_type": "code",
   "execution_count": null,
   "id": "5964b212",
   "metadata": {},
   "outputs": [],
   "source": [
    "array1"
   ]
  },
  {
   "cell_type": "markdown",
   "id": "619bb032",
   "metadata": {},
   "source": [
    "### dictionary"
   ]
  },
  {
   "cell_type": "code",
   "execution_count": null,
   "id": "a7ed3178",
   "metadata": {},
   "outputs": [],
   "source": [
    "dic ={\n",
    "    'name':'altaf',\n",
    "    'id' : 193001412 ,\n",
    "    'dept' : 'CSE'\n",
    "}"
   ]
  },
  {
   "cell_type": "code",
   "execution_count": null,
   "id": "a521cf82",
   "metadata": {},
   "outputs": [],
   "source": [
    "dic"
   ]
  },
  {
   "cell_type": "code",
   "execution_count": null,
   "id": "2d614321",
   "metadata": {},
   "outputs": [],
   "source": [
    "dic.keys()"
   ]
  },
  {
   "cell_type": "code",
   "execution_count": null,
   "id": "918b7f5e",
   "metadata": {},
   "outputs": [],
   "source": [
    "dic.values()"
   ]
  },
  {
   "cell_type": "code",
   "execution_count": null,
   "id": "9d934ca0",
   "metadata": {},
   "outputs": [],
   "source": [
    "dic['name']='altaf uddin'"
   ]
  },
  {
   "cell_type": "code",
   "execution_count": null,
   "id": "b78f008d",
   "metadata": {},
   "outputs": [],
   "source": [
    "dic"
   ]
  },
  {
   "cell_type": "code",
   "execution_count": null,
   "id": "4c510221",
   "metadata": {},
   "outputs": [],
   "source": [
    "dic={'name': 'altaf', 'id': 193001412, 'dept': 'CSE', 'varsity': 'NULL','varsity': 'edu'}"
   ]
  },
  {
   "cell_type": "code",
   "execution_count": null,
   "id": "0c6854ca",
   "metadata": {},
   "outputs": [],
   "source": [
    "dic"
   ]
  },
  {
   "cell_type": "code",
   "execution_count": null,
   "id": "a240f3b3",
   "metadata": {},
   "outputs": [],
   "source": [
    "dic.popitem()"
   ]
  },
  {
   "cell_type": "code",
   "execution_count": 234,
   "id": "c8bb3a65",
   "metadata": {},
   "outputs": [
    {
     "data": {
      "text/plain": [
       "{'name': 'altaf', 'id': 193001412, 'dept': 'CSE'}"
      ]
     },
     "execution_count": 234,
     "metadata": {},
     "output_type": "execute_result"
    }
   ],
   "source": [
    "dic"
   ]
  },
  {
   "cell_type": "markdown",
   "id": "afb7a7c6",
   "metadata": {},
   "source": [
    "### dataframe"
   ]
  },
  {
   "cell_type": "code",
   "execution_count": 235,
   "id": "b0fab539",
   "metadata": {},
   "outputs": [],
   "source": [
    "#row contains info of a single person\n",
    "#column contains data of same type"
   ]
  },
  {
   "cell_type": "code",
   "execution_count": 236,
   "id": "074ccbf7",
   "metadata": {},
   "outputs": [],
   "source": [
    "import pandas as pd"
   ]
  },
  {
   "cell_type": "code",
   "execution_count": 237,
   "id": "4036ca6e",
   "metadata": {},
   "outputs": [],
   "source": [
    "l = ['data','science','ai']"
   ]
  },
  {
   "cell_type": "code",
   "execution_count": 238,
   "id": "40ddd7f6",
   "metadata": {},
   "outputs": [
    {
     "data": {
      "text/plain": [
       "['data', 'science', 'ai']"
      ]
     },
     "execution_count": 238,
     "metadata": {},
     "output_type": "execute_result"
    }
   ],
   "source": [
    "l"
   ]
  },
  {
   "cell_type": "code",
   "execution_count": 239,
   "id": "c387a9e4",
   "metadata": {},
   "outputs": [],
   "source": [
    "df = pd.DataFrame(l)"
   ]
  },
  {
   "cell_type": "code",
   "execution_count": 240,
   "id": "82c1bfae",
   "metadata": {},
   "outputs": [
    {
     "data": {
      "text/html": [
       "<div>\n",
       "<style scoped>\n",
       "    .dataframe tbody tr th:only-of-type {\n",
       "        vertical-align: middle;\n",
       "    }\n",
       "\n",
       "    .dataframe tbody tr th {\n",
       "        vertical-align: top;\n",
       "    }\n",
       "\n",
       "    .dataframe thead th {\n",
       "        text-align: right;\n",
       "    }\n",
       "</style>\n",
       "<table border=\"1\" class=\"dataframe\">\n",
       "  <thead>\n",
       "    <tr style=\"text-align: right;\">\n",
       "      <th></th>\n",
       "      <th>0</th>\n",
       "    </tr>\n",
       "  </thead>\n",
       "  <tbody>\n",
       "    <tr>\n",
       "      <th>0</th>\n",
       "      <td>data</td>\n",
       "    </tr>\n",
       "    <tr>\n",
       "      <th>1</th>\n",
       "      <td>science</td>\n",
       "    </tr>\n",
       "    <tr>\n",
       "      <th>2</th>\n",
       "      <td>ai</td>\n",
       "    </tr>\n",
       "  </tbody>\n",
       "</table>\n",
       "</div>"
      ],
      "text/plain": [
       "         0\n",
       "0     data\n",
       "1  science\n",
       "2       ai"
      ]
     },
     "execution_count": 240,
     "metadata": {},
     "output_type": "execute_result"
    }
   ],
   "source": [
    "df"
   ]
  },
  {
   "cell_type": "code",
   "execution_count": 241,
   "id": "1b0db029",
   "metadata": {},
   "outputs": [],
   "source": [
    "  df=pd.DataFrame(l,columns=['dept'])"
   ]
  },
  {
   "cell_type": "code",
   "execution_count": 242,
   "id": "d97b3b2c",
   "metadata": {},
   "outputs": [
    {
     "data": {
      "text/html": [
       "<div>\n",
       "<style scoped>\n",
       "    .dataframe tbody tr th:only-of-type {\n",
       "        vertical-align: middle;\n",
       "    }\n",
       "\n",
       "    .dataframe tbody tr th {\n",
       "        vertical-align: top;\n",
       "    }\n",
       "\n",
       "    .dataframe thead th {\n",
       "        text-align: right;\n",
       "    }\n",
       "</style>\n",
       "<table border=\"1\" class=\"dataframe\">\n",
       "  <thead>\n",
       "    <tr style=\"text-align: right;\">\n",
       "      <th></th>\n",
       "      <th>dept</th>\n",
       "    </tr>\n",
       "  </thead>\n",
       "  <tbody>\n",
       "    <tr>\n",
       "      <th>0</th>\n",
       "      <td>data</td>\n",
       "    </tr>\n",
       "    <tr>\n",
       "      <th>1</th>\n",
       "      <td>science</td>\n",
       "    </tr>\n",
       "    <tr>\n",
       "      <th>2</th>\n",
       "      <td>ai</td>\n",
       "    </tr>\n",
       "  </tbody>\n",
       "</table>\n",
       "</div>"
      ],
      "text/plain": [
       "      dept\n",
       "0     data\n",
       "1  science\n",
       "2       ai"
      ]
     },
     "execution_count": 242,
     "metadata": {},
     "output_type": "execute_result"
    }
   ],
   "source": [
    "df"
   ]
  },
  {
   "cell_type": "code",
   "execution_count": 243,
   "id": "d142d44c",
   "metadata": {},
   "outputs": [
    {
     "data": {
      "text/plain": [
       "(3, 1)"
      ]
     },
     "execution_count": 243,
     "metadata": {},
     "output_type": "execute_result"
    }
   ],
   "source": [
    "df.shape #first value is row , second is column"
   ]
  },
  {
   "cell_type": "code",
   "execution_count": 244,
   "id": "010d0f1f",
   "metadata": {},
   "outputs": [],
   "source": [
    "row,col=df.shape"
   ]
  },
  {
   "cell_type": "code",
   "execution_count": 245,
   "id": "d50467ce",
   "metadata": {},
   "outputs": [
    {
     "data": {
      "text/plain": [
       "3"
      ]
     },
     "execution_count": 245,
     "metadata": {},
     "output_type": "execute_result"
    }
   ],
   "source": [
    "row"
   ]
  },
  {
   "cell_type": "code",
   "execution_count": 246,
   "id": "75fbcb3c",
   "metadata": {},
   "outputs": [
    {
     "data": {
      "text/plain": [
       "1"
      ]
     },
     "execution_count": 246,
     "metadata": {},
     "output_type": "execute_result"
    }
   ],
   "source": [
    "col"
   ]
  },
  {
   "cell_type": "code",
   "execution_count": 247,
   "id": "2362b765",
   "metadata": {},
   "outputs": [],
   "source": [
    "df2=pd.DataFrame(l,columns=['dept name'])"
   ]
  },
  {
   "cell_type": "code",
   "execution_count": 248,
   "id": "90e72c63",
   "metadata": {},
   "outputs": [
    {
     "data": {
      "text/html": [
       "<div>\n",
       "<style scoped>\n",
       "    .dataframe tbody tr th:only-of-type {\n",
       "        vertical-align: middle;\n",
       "    }\n",
       "\n",
       "    .dataframe tbody tr th {\n",
       "        vertical-align: top;\n",
       "    }\n",
       "\n",
       "    .dataframe thead th {\n",
       "        text-align: right;\n",
       "    }\n",
       "</style>\n",
       "<table border=\"1\" class=\"dataframe\">\n",
       "  <thead>\n",
       "    <tr style=\"text-align: right;\">\n",
       "      <th></th>\n",
       "      <th>dept name</th>\n",
       "    </tr>\n",
       "  </thead>\n",
       "  <tbody>\n",
       "    <tr>\n",
       "      <th>0</th>\n",
       "      <td>data</td>\n",
       "    </tr>\n",
       "    <tr>\n",
       "      <th>1</th>\n",
       "      <td>science</td>\n",
       "    </tr>\n",
       "    <tr>\n",
       "      <th>2</th>\n",
       "      <td>ai</td>\n",
       "    </tr>\n",
       "  </tbody>\n",
       "</table>\n",
       "</div>"
      ],
      "text/plain": [
       "  dept name\n",
       "0      data\n",
       "1   science\n",
       "2        ai"
      ]
     },
     "execution_count": 248,
     "metadata": {},
     "output_type": "execute_result"
    }
   ],
   "source": [
    "df2"
   ]
  },
  {
   "cell_type": "code",
   "execution_count": 249,
   "id": "250be3c7",
   "metadata": {},
   "outputs": [
    {
     "data": {
      "text/html": [
       "<div>\n",
       "<style scoped>\n",
       "    .dataframe tbody tr th:only-of-type {\n",
       "        vertical-align: middle;\n",
       "    }\n",
       "\n",
       "    .dataframe tbody tr th {\n",
       "        vertical-align: top;\n",
       "    }\n",
       "\n",
       "    .dataframe thead th {\n",
       "        text-align: right;\n",
       "    }\n",
       "</style>\n",
       "<table border=\"1\" class=\"dataframe\">\n",
       "  <thead>\n",
       "    <tr style=\"text-align: right;\">\n",
       "      <th></th>\n",
       "      <th>dept</th>\n",
       "      <th>dept name</th>\n",
       "    </tr>\n",
       "  </thead>\n",
       "  <tbody>\n",
       "    <tr>\n",
       "      <th>0</th>\n",
       "      <td>NaN</td>\n",
       "      <td>NaN</td>\n",
       "    </tr>\n",
       "    <tr>\n",
       "      <th>1</th>\n",
       "      <td>NaN</td>\n",
       "      <td>NaN</td>\n",
       "    </tr>\n",
       "    <tr>\n",
       "      <th>2</th>\n",
       "      <td>NaN</td>\n",
       "      <td>NaN</td>\n",
       "    </tr>\n",
       "  </tbody>\n",
       "</table>\n",
       "</div>"
      ],
      "text/plain": [
       "  dept dept name\n",
       "0  NaN       NaN\n",
       "1  NaN       NaN\n",
       "2  NaN       NaN"
      ]
     },
     "execution_count": 249,
     "metadata": {},
     "output_type": "execute_result"
    }
   ],
   "source": [
    "df+df2 #values not received"
   ]
  },
  {
   "cell_type": "code",
   "execution_count": 250,
   "id": "9d9ded06",
   "metadata": {},
   "outputs": [],
   "source": [
    "df=pd.concat([df,df2])"
   ]
  },
  {
   "cell_type": "code",
   "execution_count": 251,
   "id": "f7bd858d",
   "metadata": {},
   "outputs": [
    {
     "data": {
      "text/html": [
       "<div>\n",
       "<style scoped>\n",
       "    .dataframe tbody tr th:only-of-type {\n",
       "        vertical-align: middle;\n",
       "    }\n",
       "\n",
       "    .dataframe tbody tr th {\n",
       "        vertical-align: top;\n",
       "    }\n",
       "\n",
       "    .dataframe thead th {\n",
       "        text-align: right;\n",
       "    }\n",
       "</style>\n",
       "<table border=\"1\" class=\"dataframe\">\n",
       "  <thead>\n",
       "    <tr style=\"text-align: right;\">\n",
       "      <th></th>\n",
       "      <th>dept</th>\n",
       "      <th>dept name</th>\n",
       "    </tr>\n",
       "  </thead>\n",
       "  <tbody>\n",
       "    <tr>\n",
       "      <th>0</th>\n",
       "      <td>data</td>\n",
       "      <td>NaN</td>\n",
       "    </tr>\n",
       "    <tr>\n",
       "      <th>1</th>\n",
       "      <td>science</td>\n",
       "      <td>NaN</td>\n",
       "    </tr>\n",
       "    <tr>\n",
       "      <th>2</th>\n",
       "      <td>ai</td>\n",
       "      <td>NaN</td>\n",
       "    </tr>\n",
       "    <tr>\n",
       "      <th>0</th>\n",
       "      <td>NaN</td>\n",
       "      <td>data</td>\n",
       "    </tr>\n",
       "    <tr>\n",
       "      <th>1</th>\n",
       "      <td>NaN</td>\n",
       "      <td>science</td>\n",
       "    </tr>\n",
       "    <tr>\n",
       "      <th>2</th>\n",
       "      <td>NaN</td>\n",
       "      <td>ai</td>\n",
       "    </tr>\n",
       "  </tbody>\n",
       "</table>\n",
       "</div>"
      ],
      "text/plain": [
       "      dept dept name\n",
       "0     data       NaN\n",
       "1  science       NaN\n",
       "2       ai       NaN\n",
       "0      NaN      data\n",
       "1      NaN   science\n",
       "2      NaN        ai"
      ]
     },
     "execution_count": 251,
     "metadata": {},
     "output_type": "execute_result"
    }
   ],
   "source": [
    "df"
   ]
  },
  {
   "cell_type": "code",
   "execution_count": 252,
   "id": "f742dc7f",
   "metadata": {},
   "outputs": [],
   "source": [
    "df1=pd.DataFrame(l,columns=['dept'])\n",
    "df2=pd.DataFrame(l,columns=['dept name'])"
   ]
  },
  {
   "cell_type": "code",
   "execution_count": 253,
   "id": "be2c6bc8",
   "metadata": {},
   "outputs": [
    {
     "data": {
      "text/html": [
       "<div>\n",
       "<style scoped>\n",
       "    .dataframe tbody tr th:only-of-type {\n",
       "        vertical-align: middle;\n",
       "    }\n",
       "\n",
       "    .dataframe tbody tr th {\n",
       "        vertical-align: top;\n",
       "    }\n",
       "\n",
       "    .dataframe thead th {\n",
       "        text-align: right;\n",
       "    }\n",
       "</style>\n",
       "<table border=\"1\" class=\"dataframe\">\n",
       "  <thead>\n",
       "    <tr style=\"text-align: right;\">\n",
       "      <th></th>\n",
       "      <th>dept</th>\n",
       "    </tr>\n",
       "  </thead>\n",
       "  <tbody>\n",
       "    <tr>\n",
       "      <th>0</th>\n",
       "      <td>data</td>\n",
       "    </tr>\n",
       "    <tr>\n",
       "      <th>1</th>\n",
       "      <td>science</td>\n",
       "    </tr>\n",
       "    <tr>\n",
       "      <th>2</th>\n",
       "      <td>ai</td>\n",
       "    </tr>\n",
       "  </tbody>\n",
       "</table>\n",
       "</div>"
      ],
      "text/plain": [
       "      dept\n",
       "0     data\n",
       "1  science\n",
       "2       ai"
      ]
     },
     "execution_count": 253,
     "metadata": {},
     "output_type": "execute_result"
    }
   ],
   "source": [
    "df1"
   ]
  },
  {
   "cell_type": "code",
   "execution_count": 254,
   "id": "8baaa1d9",
   "metadata": {},
   "outputs": [
    {
     "data": {
      "text/html": [
       "<div>\n",
       "<style scoped>\n",
       "    .dataframe tbody tr th:only-of-type {\n",
       "        vertical-align: middle;\n",
       "    }\n",
       "\n",
       "    .dataframe tbody tr th {\n",
       "        vertical-align: top;\n",
       "    }\n",
       "\n",
       "    .dataframe thead th {\n",
       "        text-align: right;\n",
       "    }\n",
       "</style>\n",
       "<table border=\"1\" class=\"dataframe\">\n",
       "  <thead>\n",
       "    <tr style=\"text-align: right;\">\n",
       "      <th></th>\n",
       "      <th>dept name</th>\n",
       "    </tr>\n",
       "  </thead>\n",
       "  <tbody>\n",
       "    <tr>\n",
       "      <th>0</th>\n",
       "      <td>data</td>\n",
       "    </tr>\n",
       "    <tr>\n",
       "      <th>1</th>\n",
       "      <td>science</td>\n",
       "    </tr>\n",
       "    <tr>\n",
       "      <th>2</th>\n",
       "      <td>ai</td>\n",
       "    </tr>\n",
       "  </tbody>\n",
       "</table>\n",
       "</div>"
      ],
      "text/plain": [
       "  dept name\n",
       "0      data\n",
       "1   science\n",
       "2        ai"
      ]
     },
     "execution_count": 254,
     "metadata": {},
     "output_type": "execute_result"
    }
   ],
   "source": [
    "df2"
   ]
  },
  {
   "cell_type": "code",
   "execution_count": 255,
   "id": "5b694b55",
   "metadata": {},
   "outputs": [],
   "source": [
    "df=pd.concat([df1,df2],axis=1) #axis=> 1 for column and 0 for row"
   ]
  },
  {
   "cell_type": "code",
   "execution_count": 256,
   "id": "1e88b27c",
   "metadata": {},
   "outputs": [
    {
     "data": {
      "text/html": [
       "<div>\n",
       "<style scoped>\n",
       "    .dataframe tbody tr th:only-of-type {\n",
       "        vertical-align: middle;\n",
       "    }\n",
       "\n",
       "    .dataframe tbody tr th {\n",
       "        vertical-align: top;\n",
       "    }\n",
       "\n",
       "    .dataframe thead th {\n",
       "        text-align: right;\n",
       "    }\n",
       "</style>\n",
       "<table border=\"1\" class=\"dataframe\">\n",
       "  <thead>\n",
       "    <tr style=\"text-align: right;\">\n",
       "      <th></th>\n",
       "      <th>dept</th>\n",
       "      <th>dept name</th>\n",
       "    </tr>\n",
       "  </thead>\n",
       "  <tbody>\n",
       "    <tr>\n",
       "      <th>0</th>\n",
       "      <td>data</td>\n",
       "      <td>data</td>\n",
       "    </tr>\n",
       "    <tr>\n",
       "      <th>1</th>\n",
       "      <td>science</td>\n",
       "      <td>science</td>\n",
       "    </tr>\n",
       "    <tr>\n",
       "      <th>2</th>\n",
       "      <td>ai</td>\n",
       "      <td>ai</td>\n",
       "    </tr>\n",
       "  </tbody>\n",
       "</table>\n",
       "</div>"
      ],
      "text/plain": [
       "      dept dept name\n",
       "0     data      data\n",
       "1  science   science\n",
       "2       ai        ai"
      ]
     },
     "execution_count": 256,
     "metadata": {},
     "output_type": "execute_result"
    }
   ],
   "source": [
    "df"
   ]
  },
  {
   "cell_type": "code",
   "execution_count": 257,
   "id": "4c958c1b",
   "metadata": {},
   "outputs": [
    {
     "data": {
      "text/html": [
       "<div>\n",
       "<style scoped>\n",
       "    .dataframe tbody tr th:only-of-type {\n",
       "        vertical-align: middle;\n",
       "    }\n",
       "\n",
       "    .dataframe tbody tr th {\n",
       "        vertical-align: top;\n",
       "    }\n",
       "\n",
       "    .dataframe thead th {\n",
       "        text-align: right;\n",
       "    }\n",
       "</style>\n",
       "<table border=\"1\" class=\"dataframe\">\n",
       "  <thead>\n",
       "    <tr style=\"text-align: right;\">\n",
       "      <th></th>\n",
       "      <th>dept</th>\n",
       "      <th>dept name</th>\n",
       "    </tr>\n",
       "  </thead>\n",
       "  <tbody>\n",
       "    <tr>\n",
       "      <th>1</th>\n",
       "      <td>science</td>\n",
       "      <td>science</td>\n",
       "    </tr>\n",
       "    <tr>\n",
       "      <th>2</th>\n",
       "      <td>ai</td>\n",
       "      <td>ai</td>\n",
       "    </tr>\n",
       "  </tbody>\n",
       "</table>\n",
       "</div>"
      ],
      "text/plain": [
       "      dept dept name\n",
       "1  science   science\n",
       "2       ai        ai"
      ]
     },
     "execution_count": 257,
     "metadata": {},
     "output_type": "execute_result"
    }
   ],
   "source": [
    "df.drop([0])"
   ]
  },
  {
   "cell_type": "code",
   "execution_count": 258,
   "id": "3a60f77c",
   "metadata": {},
   "outputs": [],
   "source": [
    "df.drop(['dept'], axis=1, inplace=True) #inplace causes update"
   ]
  },
  {
   "cell_type": "code",
   "execution_count": 259,
   "id": "e84bd8e3",
   "metadata": {},
   "outputs": [
    {
     "data": {
      "text/html": [
       "<div>\n",
       "<style scoped>\n",
       "    .dataframe tbody tr th:only-of-type {\n",
       "        vertical-align: middle;\n",
       "    }\n",
       "\n",
       "    .dataframe tbody tr th {\n",
       "        vertical-align: top;\n",
       "    }\n",
       "\n",
       "    .dataframe thead th {\n",
       "        text-align: right;\n",
       "    }\n",
       "</style>\n",
       "<table border=\"1\" class=\"dataframe\">\n",
       "  <thead>\n",
       "    <tr style=\"text-align: right;\">\n",
       "      <th></th>\n",
       "      <th>dept name</th>\n",
       "    </tr>\n",
       "  </thead>\n",
       "  <tbody>\n",
       "    <tr>\n",
       "      <th>0</th>\n",
       "      <td>data</td>\n",
       "    </tr>\n",
       "    <tr>\n",
       "      <th>1</th>\n",
       "      <td>science</td>\n",
       "    </tr>\n",
       "    <tr>\n",
       "      <th>2</th>\n",
       "      <td>ai</td>\n",
       "    </tr>\n",
       "  </tbody>\n",
       "</table>\n",
       "</div>"
      ],
      "text/plain": [
       "  dept name\n",
       "0      data\n",
       "1   science\n",
       "2        ai"
      ]
     },
     "execution_count": 259,
     "metadata": {},
     "output_type": "execute_result"
    }
   ],
   "source": [
    "df"
   ]
  }
 ],
 "metadata": {
  "kernelspec": {
   "display_name": "Python 3 (ipykernel)",
   "language": "python",
   "name": "python3"
  },
  "language_info": {
   "codemirror_mode": {
    "name": "ipython",
    "version": 3
   },
   "file_extension": ".py",
   "mimetype": "text/x-python",
   "name": "python",
   "nbconvert_exporter": "python",
   "pygments_lexer": "ipython3",
   "version": "3.9.13"
  },
  "varInspector": {
   "cols": {
    "lenName": 16,
    "lenType": 16,
    "lenVar": 40
   },
   "kernels_config": {
    "python": {
     "delete_cmd_postfix": "",
     "delete_cmd_prefix": "del ",
     "library": "var_list.py",
     "varRefreshCmd": "print(var_dic_list())"
    },
    "r": {
     "delete_cmd_postfix": ") ",
     "delete_cmd_prefix": "rm(",
     "library": "var_list.r",
     "varRefreshCmd": "cat(var_dic_list()) "
    }
   },
   "types_to_exclude": [
    "module",
    "function",
    "builtin_function_or_method",
    "instance",
    "_Feature"
   ],
   "window_display": false
  }
 },
 "nbformat": 4,
 "nbformat_minor": 5
}
